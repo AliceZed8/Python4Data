{
 "cells": [
  {
   "cell_type": "markdown",
   "id": "041f3d24-6f19-439e-ac21-4ab56885c967",
   "metadata": {},
   "source": [
    "# Лабораторна работа 8"
   ]
  },
  {
   "cell_type": "code",
   "execution_count": 69,
   "id": "ba6fbe94-85c1-4601-a085-7735751d63d6",
   "metadata": {},
   "outputs": [],
   "source": [
    "import sqlite3"
   ]
  },
  {
   "cell_type": "markdown",
   "id": "e6878ab3-226a-4189-9e8d-1110785a8607",
   "metadata": {},
   "source": [
    "## Задание 1"
   ]
  },
  {
   "cell_type": "code",
   "execution_count": 70,
   "id": "9be77e5f-fd26-4d03-af39-1907cdabe3f8",
   "metadata": {},
   "outputs": [],
   "source": [
    "conn = sqlite3.connect(\"test.db\")\n",
    "cursor = conn.cursor()"
   ]
  },
  {
   "cell_type": "markdown",
   "id": "a346b3e2-b050-4f74-b7c1-62eb82da63ea",
   "metadata": {},
   "source": [
    "Таблица Курьер"
   ]
  },
  {
   "cell_type": "code",
   "execution_count": 71,
   "id": "7435eb07-4656-4ac8-98db-c2b7fd2e15f4",
   "metadata": {},
   "outputs": [
    {
     "data": {
      "text/plain": [
       "<sqlite3.Cursor at 0x71450575cd40>"
      ]
     },
     "execution_count": 71,
     "metadata": {},
     "output_type": "execute_result"
    }
   ],
   "source": [
    "cursor.execute(\"\"\"\n",
    "    CREATE TABLE IF NOT EXISTS courier (\n",
    "        id INTEGER PRIMARY KEY AUTOINCREMENT,\n",
    "        last_name TEXT,\n",
    "        first_name TEXT,\n",
    "        patronymic TEXT,\n",
    "        passport_number INTEGER,\n",
    "        birth_date DATE,\n",
    "        hiring_date DATE,\n",
    "        work_start_time TIME,\n",
    "        work_end_time TIME,\n",
    "        city TEXT,\n",
    "        street TEXT,\n",
    "        house TEXT,\n",
    "        apartment INTEGER,\n",
    "        phone TEXT\n",
    "    );\n",
    "\"\"\")"
   ]
  },
  {
   "cell_type": "markdown",
   "id": "d61536c3-45e8-4d5b-bad1-70339bca2997",
   "metadata": {},
   "source": [
    "Таблица Транспорт"
   ]
  },
  {
   "cell_type": "code",
   "execution_count": 72,
   "id": "1fc6392c-de99-433f-b77f-4f6cc15901ae",
   "metadata": {},
   "outputs": [
    {
     "data": {
      "text/plain": [
       "<sqlite3.Cursor at 0x71450575cd40>"
      ]
     },
     "execution_count": 72,
     "metadata": {},
     "output_type": "execute_result"
    }
   ],
   "source": [
    "cursor.execute(\"\"\"\n",
    "    CREATE TABLE IF NOT EXISTS transport (\n",
    "        id INTEGER PRIMARY KEY AUTOINCREMENT,\n",
    "        mark TEXT,\n",
    "        register_date DATE,\n",
    "        color TEXT\n",
    "    );\n",
    "\"\"\")"
   ]
  },
  {
   "cell_type": "markdown",
   "id": "da54bd98-0802-407e-bcc8-33ee20436590",
   "metadata": {},
   "source": [
    "Таблица Заказ"
   ]
  },
  {
   "cell_type": "code",
   "execution_count": 73,
   "id": "abaa489d-37a1-4cb1-a133-a89e9cff5ebc",
   "metadata": {},
   "outputs": [
    {
     "data": {
      "text/plain": [
       "<sqlite3.Cursor at 0x71450575cd40>"
      ]
     },
     "execution_count": 73,
     "metadata": {},
     "output_type": "execute_result"
    }
   ],
   "source": [
    "cursor.execute(\"\"\"\n",
    "    CREATE TABLE IF NOT EXISTS orders  (\n",
    "        id INTEGER PRIMARY KEY AUTOINCREMENT,\n",
    "        sender_id INTEGER,\n",
    "        receiver_id INTEGER,\n",
    "        order_date DATE,\n",
    "        delivery_date DATE,\n",
    "        delivery_price REAL,\n",
    "        courier_id INTEGER,\n",
    "        transport_id INTEGER,\n",
    "        FOREIGN KEY (sender_id) REFERENCES sender (id),\n",
    "        FOREIGN KEY (receiver_id) REFERENCES receiver (id),\n",
    "        FOREIGN KEY (courier_id) REFERENCES courier (id),\n",
    "        FOREIGN KEY (transport_id) REFERENCES transport (id)\n",
    "    );\n",
    "\"\"\")"
   ]
  },
  {
   "cell_type": "code",
   "execution_count": 74,
   "id": "34130b37-1e04-4cc9-8e25-4c92cf252696",
   "metadata": {},
   "outputs": [],
   "source": [
    "conn.commit()"
   ]
  },
  {
   "cell_type": "markdown",
   "id": "107a958d-24cd-44a8-95f7-cf0fdfcc343b",
   "metadata": {},
   "source": [
    "Добавление данных"
   ]
  },
  {
   "cell_type": "code",
   "execution_count": 75,
   "id": "81b413a7-e3e0-4d07-abdb-338fed30da27",
   "metadata": {},
   "outputs": [],
   "source": [
    "cursor.execute(\"\"\"\n",
    "    INSERT INTO courier (last_name, first_name, patronymic, passport_number, birth_date, hiring_date, \n",
    "                         work_start_time, work_end_time, city, street, house, apartment, phone)\n",
    "    VALUES (?, ?, ?, ?, ?, ?, ?, ?, ?, ?, ?, ?, ?);\n",
    "\"\"\", ('Иванов', 'Иван', 'Иванович', 123456789, '1999-01-01', '2024-01-01', \n",
    "      '09:00:00', '18:00:00', 'Москва', 'Ленина', '1', 10, '+79001234567'))\n",
    "conn.commit()\n"
   ]
  },
  {
   "cell_type": "code",
   "execution_count": 76,
   "id": "1f1a555a-f379-45d2-b36f-2c4c6c543214",
   "metadata": {},
   "outputs": [],
   "source": [
    "cursor.execute(\"\"\"\n",
    "    INSERT INTO transport (mark, register_date, color)\n",
    "    VALUES (?, ?, ?);\n",
    "\"\"\", ('Toyota', '2023-01-15', 'Red'))\n",
    "conn.commit()"
   ]
  },
  {
   "cell_type": "code",
   "execution_count": 77,
   "id": "3f144e46-c4f3-4bc1-a47a-da981f4a9cd3",
   "metadata": {},
   "outputs": [],
   "source": [
    "cursor.execute(\"\"\"\n",
    "    INSERT INTO orders (sender_id, receiver_id, order_date, delivery_date, delivery_price, courier_id, transport_id)\n",
    "    VALUES (?, ?, ?, ?, ?, ?, ?);\n",
    "\"\"\", (1, 2, '2024-10-01', '2024-10-02', 123, 1, 1))\n",
    "conn.commit()\n"
   ]
  },
  {
   "cell_type": "markdown",
   "id": "f9b3f322-bb6a-4732-9960-66d6bdcf4821",
   "metadata": {},
   "source": [
    "Обновление данных"
   ]
  },
  {
   "cell_type": "code",
   "execution_count": 78,
   "id": "b31a4c31-e1e3-41f7-ac09-22061ea796e7",
   "metadata": {},
   "outputs": [],
   "source": [
    "cursor.execute(\"\"\"\n",
    "    UPDATE transport\n",
    "    SET color = ?\n",
    "    WHERE id = ?;\n",
    "\"\"\", (\"Purple\", 1))\n",
    "conn.commit()"
   ]
  },
  {
   "cell_type": "markdown",
   "id": "b53e709f-658a-42d7-8533-0eeb992151a2",
   "metadata": {},
   "source": [
    "## Задание 2"
   ]
  },
  {
   "cell_type": "code",
   "execution_count": 83,
   "id": "e1044ef5-93a6-4722-ac59-25a6d729db2d",
   "metadata": {},
   "outputs": [],
   "source": [
    "from sqlalchemy import create_engine, Column, Integer, String, Date, Float, ForeignKey\n",
    "from sqlalchemy.orm import declarative_base, sessionmaker, relationship"
   ]
  },
  {
   "cell_type": "code",
   "execution_count": 84,
   "id": "b207e177-0f49-4ef8-825a-81ae81fba8b4",
   "metadata": {},
   "outputs": [],
   "source": [
    "engine = create_engine('sqlite:///test.db', echo=True)\n",
    "Base = declarative_base()"
   ]
  },
  {
   "cell_type": "code",
   "execution_count": 85,
   "id": "195fe313-6832-41e2-a71c-9f78bbdd0809",
   "metadata": {},
   "outputs": [],
   "source": [
    "class Sender(Base):\n",
    "    __tablename__ = 'sender'\n",
    "\n",
    "    id = Column(Integer, primary_key=True, autoincrement=True)\n",
    "    last_name = Column(String)\n",
    "    first_name = Column(String)\n",
    "    patronymic = Column(String)\n",
    "    birth_date = Column(String)\n",
    "    index = Column(Integer)\n",
    "    city = Column(String)\n",
    "    street = Column(String)\n",
    "    house = Column(Integer)\n",
    "    apartment = Column(Integer)\n",
    "    phone = Column(String)\n",
    "\n",
    "class Receiver(Base):\n",
    "    __tablename__ = 'receiver'\n",
    "\n",
    "    id = Column(Integer, primary_key=True, autoincrement=True)\n",
    "    last_name = Column(String)\n",
    "    first_name = Column(String)\n",
    "    patronymic = Column(String)\n",
    "    birth_date = Column(String)\n",
    "    index = Column(Integer)\n",
    "    city = Column(String)\n",
    "    street = Column(String)\n",
    "    house = Column(Integer)\n",
    "    apartment = Column(Integer)\n",
    "    phone = Column(String)"
   ]
  },
  {
   "cell_type": "code",
   "execution_count": 86,
   "id": "2275280d-dc81-4d73-aa42-1fcd5b64c296",
   "metadata": {},
   "outputs": [
    {
     "name": "stdout",
     "output_type": "stream",
     "text": [
      "2024-11-22 18:26:36,997 INFO sqlalchemy.engine.Engine BEGIN (implicit)\n",
      "2024-11-22 18:26:36,998 INFO sqlalchemy.engine.Engine PRAGMA main.table_info(\"sender\")\n",
      "2024-11-22 18:26:36,999 INFO sqlalchemy.engine.Engine [raw sql] ()\n",
      "2024-11-22 18:26:37,000 INFO sqlalchemy.engine.Engine PRAGMA temp.table_info(\"sender\")\n",
      "2024-11-22 18:26:37,001 INFO sqlalchemy.engine.Engine [raw sql] ()\n",
      "2024-11-22 18:26:37,002 INFO sqlalchemy.engine.Engine PRAGMA main.table_info(\"receiver\")\n",
      "2024-11-22 18:26:37,003 INFO sqlalchemy.engine.Engine [raw sql] ()\n",
      "2024-11-22 18:26:37,004 INFO sqlalchemy.engine.Engine PRAGMA temp.table_info(\"receiver\")\n",
      "2024-11-22 18:26:37,004 INFO sqlalchemy.engine.Engine [raw sql] ()\n",
      "2024-11-22 18:26:37,006 INFO sqlalchemy.engine.Engine \n",
      "CREATE TABLE sender (\n",
      "\tid INTEGER NOT NULL, \n",
      "\tlast_name VARCHAR, \n",
      "\tfirst_name VARCHAR, \n",
      "\tpatronymic VARCHAR, \n",
      "\tbirth_date VARCHAR, \n",
      "\t\"index\" INTEGER, \n",
      "\tcity VARCHAR, \n",
      "\tstreet VARCHAR, \n",
      "\thouse INTEGER, \n",
      "\tapartment INTEGER, \n",
      "\tphone VARCHAR, \n",
      "\tPRIMARY KEY (id)\n",
      ")\n",
      "\n",
      "\n",
      "2024-11-22 18:26:37,007 INFO sqlalchemy.engine.Engine [no key 0.00097s] ()\n",
      "2024-11-22 18:26:37,047 INFO sqlalchemy.engine.Engine \n",
      "CREATE TABLE receiver (\n",
      "\tid INTEGER NOT NULL, \n",
      "\tlast_name VARCHAR, \n",
      "\tfirst_name VARCHAR, \n",
      "\tpatronymic VARCHAR, \n",
      "\tbirth_date VARCHAR, \n",
      "\t\"index\" INTEGER, \n",
      "\tcity VARCHAR, \n",
      "\tstreet VARCHAR, \n",
      "\thouse INTEGER, \n",
      "\tapartment INTEGER, \n",
      "\tphone VARCHAR, \n",
      "\tPRIMARY KEY (id)\n",
      ")\n",
      "\n",
      "\n",
      "2024-11-22 18:26:37,047 INFO sqlalchemy.engine.Engine [no key 0.00060s] ()\n",
      "2024-11-22 18:26:37,054 INFO sqlalchemy.engine.Engine COMMIT\n"
     ]
    }
   ],
   "source": [
    "Base.metadata.create_all(engine)\n",
    "\n",
    "\n",
    "Session = sessionmaker(bind=engine) \n",
    "session = Session()"
   ]
  },
  {
   "cell_type": "code",
   "execution_count": 88,
   "id": "4ecb5003-51a8-4f10-9091-428573e8fd1e",
   "metadata": {},
   "outputs": [
    {
     "name": "stdout",
     "output_type": "stream",
     "text": [
      "2024-11-22 18:29:49,585 INFO sqlalchemy.engine.Engine BEGIN (implicit)\n",
      "2024-11-22 18:29:49,589 INFO sqlalchemy.engine.Engine INSERT INTO sender (last_name, first_name, patronymic, birth_date, \"index\", city, street, house, apartment, phone) VALUES (?, ?, ?, ?, ?, ?, ?, ?, ?, ?) RETURNING id\n",
      "2024-11-22 18:29:49,590 INFO sqlalchemy.engine.Engine [generated in 0.00020s (insertmanyvalues) 1/2 (ordered; batch not supported)] ('Иванов', 'Иван', 'Иванович', '1991-01-01', 101000, 'Мурманск', 'ъъъъъъ', 1, 1, '1234567890')\n",
      "2024-11-22 18:29:49,591 INFO sqlalchemy.engine.Engine INSERT INTO sender (last_name, first_name, patronymic, birth_date, \"index\", city, street, house, apartment, phone) VALUES (?, ?, ?, ?, ?, ?, ?, ?, ?, ?) RETURNING id\n",
      "2024-11-22 18:29:49,592 INFO sqlalchemy.engine.Engine [insertmanyvalues 2/2 (ordered; batch not supported)] ('Петров', 'Петр', 'Петрович', '1990-01-01', 102000, 'Санкт-Петербург', 'Пушкина', 2, 2, '0987654321')\n",
      "2024-11-22 18:29:49,594 INFO sqlalchemy.engine.Engine COMMIT\n"
     ]
    }
   ],
   "source": [
    "sender1 = Sender(\n",
    "    last_name='Иванов',\n",
    "    first_name='Иван',\n",
    "    patronymic='Иванович',\n",
    "    birth_date='1991-01-01',\n",
    "    index=101000,\n",
    "    city='Мурманск',\n",
    "    street='ъъъъъъ',\n",
    "    house=1,\n",
    "    apartment=1,\n",
    "    phone='1234567890'\n",
    ")\n",
    "\n",
    "sender2 = Sender(\n",
    "    last_name='Петров',\n",
    "    first_name='Петр',\n",
    "    patronymic='Петрович',\n",
    "    birth_date='1990-01-01',\n",
    "    index=102000,\n",
    "    city='Санкт-Петербург',\n",
    "    street='Пушкина',\n",
    "    house=2,\n",
    "    apartment=2,\n",
    "    phone='0987654321'\n",
    ")\n",
    "\n",
    "session.add(sender1)\n",
    "session.add(sender2)\n",
    "\n",
    "session.commit()"
   ]
  },
  {
   "cell_type": "code",
   "execution_count": 89,
   "id": "6e070b32-e276-4a12-b79d-601a1112e4be",
   "metadata": {},
   "outputs": [
    {
     "name": "stdout",
     "output_type": "stream",
     "text": [
      "2024-11-22 18:32:16,499 INFO sqlalchemy.engine.Engine BEGIN (implicit)\n",
      "2024-11-22 18:32:16,502 INFO sqlalchemy.engine.Engine INSERT INTO receiver (last_name, first_name, patronymic, birth_date, \"index\", city, street, house, apartment, phone) VALUES (?, ?, ?, ?, ?, ?, ?, ?, ?, ?) RETURNING id\n",
      "2024-11-22 18:32:16,503 INFO sqlalchemy.engine.Engine [generated in 0.00026s (insertmanyvalues) 1/2 (ordered; batch not supported)] ('Сидоров', 'Сидор', 'Сидорович', '1900-01-01', 103000, 'Екатеринбург', '....', 3, 3, '1231231234')\n",
      "2024-11-22 18:32:16,504 INFO sqlalchemy.engine.Engine INSERT INTO receiver (last_name, first_name, patronymic, birth_date, \"index\", city, street, house, apartment, phone) VALUES (?, ?, ?, ?, ?, ?, ?, ?, ?, ?) RETURNING id\n",
      "2024-11-22 18:32:16,505 INFO sqlalchemy.engine.Engine [insertmanyvalues 2/2 (ordered; batch not supported)] ('Павлов', 'Иннокентий', 'Алексеевич', '1988-04-04', 104000, 'Новосибирск', 'Какая то улица.....', 4, 4, '4321432143')\n",
      "2024-11-22 18:32:16,506 INFO sqlalchemy.engine.Engine COMMIT\n"
     ]
    }
   ],
   "source": [
    "receiver1 = Receiver(\n",
    "    last_name='Сидоров',\n",
    "    first_name='Сидор',\n",
    "    patronymic='Сидорович',\n",
    "    birth_date='1900-01-01',\n",
    "    index=103000,\n",
    "    city='Екатеринбург',\n",
    "    street='....',\n",
    "    house=3,\n",
    "    apartment=3,\n",
    "    phone='1231231234'\n",
    ")\n",
    "\n",
    "receiver2 = Receiver(\n",
    "    last_name='Павлов',\n",
    "    first_name='Иннокентий',\n",
    "    patronymic='Алексеевич',\n",
    "    birth_date='1988-04-04',\n",
    "    index=104000,\n",
    "    city='Новосибирск',\n",
    "    street='Какая то улица.....',\n",
    "    house=4,\n",
    "    apartment=4,\n",
    "    phone='4321432143'\n",
    ")\n",
    "\n",
    "session.add(receiver1)\n",
    "session.add(receiver2)\n",
    "\n",
    "session.commit()"
   ]
  }
 ],
 "metadata": {
  "kernelspec": {
   "display_name": ".pyenv",
   "language": "python",
   "name": ".pyenv"
  },
  "language_info": {
   "codemirror_mode": {
    "name": "ipython",
    "version": 3
   },
   "file_extension": ".py",
   "mimetype": "text/x-python",
   "name": "python",
   "nbconvert_exporter": "python",
   "pygments_lexer": "ipython3",
   "version": "3.12.7"
  }
 },
 "nbformat": 4,
 "nbformat_minor": 5
}
