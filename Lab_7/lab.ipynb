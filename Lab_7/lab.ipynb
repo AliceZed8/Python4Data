{
 "cells": [
  {
   "cell_type": "markdown",
   "id": "40d3cf97-52eb-424f-aaa0-eac8573692d7",
   "metadata": {},
   "source": [
    "# Лабораторная работа 7"
   ]
  },
  {
   "cell_type": "code",
   "execution_count": 29,
   "id": "5bab2314-487a-44a6-b7fe-771b6adb3341",
   "metadata": {},
   "outputs": [],
   "source": [
    "import jsonschema\n",
    "import json"
   ]
  },
  {
   "cell_type": "markdown",
   "id": "26216a47-ad4f-4b2d-9b55-55e42920984b",
   "metadata": {},
   "source": [
    "## Часть 1"
   ]
  },
  {
   "cell_type": "markdown",
   "id": "e04cfeb5-9d5d-4f25-a159-20f797803183",
   "metadata": {},
   "source": [
    "Создаем неправильный файл fake_ex1.json"
   ]
  },
  {
   "cell_type": "code",
   "execution_count": 30,
   "id": "33b389b4-5ae3-4964-8101-11a6039f1964",
   "metadata": {},
   "outputs": [
    {
     "name": "stdout",
     "output_type": "stream",
     "text": [
      "File is not valid\n"
     ]
    }
   ],
   "source": [
    "with open(\"fake_ex1.json\") as fake, open(\"ex1_schema.json\") as schema:\n",
    "    try:\n",
    "        jsonschema.validate(json.load(fake), json.load(schema))\n",
    "        print(\"File is valid\")\n",
    "    except:\n",
    "        print(\"File is not valid\")\n",
    "        "
   ]
  },
  {
   "cell_type": "markdown",
   "id": "3b8329e0-68b5-4bd5-a66d-65fa8aef80d6",
   "metadata": {},
   "source": [
    "## Часть 2"
   ]
  },
  {
   "cell_type": "markdown",
   "id": "13ab64cc-e363-4061-9cf9-da66d8f3cf10",
   "metadata": {},
   "source": [
    "Привели к читабельному виду и записали в файл format_ex2.json"
   ]
  },
  {
   "cell_type": "code",
   "execution_count": 31,
   "id": "b1da016f-acf9-44c6-b182-ac8bbba14fd1",
   "metadata": {},
   "outputs": [
    {
     "name": "stdout",
     "output_type": "stream",
     "text": [
      "{'Estel Kuhn': '967.297.2078', 'Jeramie Hahn': '+1 (278) 799-5053', 'Susana Upton DVM': '269.902.7866', 'Mr. Salvador Torphy I': '407.281.5935'}\n"
     ]
    }
   ],
   "source": [
    "phone_book = {}\n",
    "\n",
    "with open(\"format_ex2.json\") as file:\n",
    "    data = json.load(file)\n",
    "    for user in data[\"users\"]:\n",
    "        phone_book[user['name']] = user['phoneNumber']\n",
    "\n",
    "print(phone_book)        "
   ]
  },
  {
   "cell_type": "markdown",
   "id": "cd6d947a-8cbc-4173-abc8-271f5e2f691d",
   "metadata": {},
   "source": [
    "## Часть 3"
   ]
  },
  {
   "cell_type": "markdown",
   "id": "98dc9c71-f6f4-499b-9946-0b2d5ebd6927",
   "metadata": {},
   "source": [
    "Создадим новый элемент"
   ]
  },
  {
   "cell_type": "code",
   "execution_count": 32,
   "id": "16460581-6dfb-4298-ab48-b331f44acd8e",
   "metadata": {},
   "outputs": [],
   "source": [
    "new_invoice = {\n",
    "    \"id\": 3,\n",
    "    \"total\": 0,\n",
    "    \"items\": [\n",
    "        {\n",
    "            \"name\": \"Item 4\",\n",
    "            \"quantity\": 20,\n",
    "            \"price\": 20.10\n",
    "        },\n",
    "        {\n",
    "            \"name\": \"Item 5\",\n",
    "            \"quantity\": 30,\n",
    "            \"price\": 100.30\n",
    "        },\n",
    "        {\n",
    "            \"name\": \"Item 6\",\n",
    "            \"quantity\": 15,\n",
    "            \"price\": 50.00\n",
    "        }\n",
    "    ]\n",
    "}\n",
    "\n",
    "for item in new_invoice[\"items\"]:\n",
    "    new_invoice[\"total\"] += item[\"price\"]*item[\"quantity\"]\n"
   ]
  },
  {
   "cell_type": "markdown",
   "id": "e8946719-7c41-4bd9-8876-487c633d078a",
   "metadata": {},
   "source": [
    "Добавим элемент"
   ]
  },
  {
   "cell_type": "code",
   "execution_count": 33,
   "id": "b17aab80-f1de-4f0a-9436-8abfde7faa81",
   "metadata": {},
   "outputs": [],
   "source": [
    "data = {}\n",
    "with open(\"ex_3.json\") as file:\n",
    "    data = json.load(file)\n",
    "if (\"invoices\" not in data): exit()\n",
    "data[\"invoices\"].append(new_invoice)\n",
    "\n",
    "with open(\"new_ex3.json\", \"w+\") as file:\n",
    "    json.dump(data, file, indent=2)\n"
   ]
  }
 ],
 "metadata": {
  "kernelspec": {
   "display_name": ".pyenv",
   "language": "python",
   "name": ".pyenv"
  },
  "language_info": {
   "codemirror_mode": {
    "name": "ipython",
    "version": 3
   },
   "file_extension": ".py",
   "mimetype": "text/x-python",
   "name": "python",
   "nbconvert_exporter": "python",
   "pygments_lexer": "ipython3",
   "version": "3.12.7"
  }
 },
 "nbformat": 4,
 "nbformat_minor": 5
}
