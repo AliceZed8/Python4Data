{
 "cells": [
  {
   "cell_type": "markdown",
   "id": "85b69005-7137-4719-b56d-ef6962a69697",
   "metadata": {},
   "source": [
    "# Лабораторная работа 10"
   ]
  },
  {
   "cell_type": "code",
   "execution_count": 182,
   "id": "aaa07a4c-6047-4ca1-b3f1-fde875f5dc01",
   "metadata": {},
   "outputs": [],
   "source": [
    "from docx import Document\n",
    "from docx.shared import Pt, RGBColor, Inches"
   ]
  },
  {
   "cell_type": "markdown",
   "id": "6062083c-9f81-4551-899c-440d69d89ab3",
   "metadata": {},
   "source": [
    "## Задание 1"
   ]
  },
  {
   "cell_type": "code",
   "execution_count": 183,
   "id": "9a6fde0e-0f3d-44d7-8d83-e9e507191dad",
   "metadata": {},
   "outputs": [],
   "source": [
    "doc = Document()"
   ]
  },
  {
   "cell_type": "code",
   "execution_count": 184,
   "id": "c92604f7-d67e-4c39-9927-c20ec62cbcfd",
   "metadata": {},
   "outputs": [
    {
     "data": {
      "text/plain": [
       "<docx.text.paragraph.Paragraph at 0x765d09c40c80>"
      ]
     },
     "execution_count": 184,
     "metadata": {},
     "output_type": "execute_result"
    }
   ],
   "source": [
    "doc.add_paragraph(\n",
    "    \"В микроконтроллерах ATmega, используемых на платформах Arduino, существует три вида памяти:\"\n",
    ")"
   ]
  },
  {
   "cell_type": "code",
   "execution_count": 185,
   "id": "fe72c6cc-548a-4c26-b12d-d4a492a81314",
   "metadata": {},
   "outputs": [
    {
     "data": {
      "text/plain": [
       "<docx.text.paragraph.Paragraph at 0x765d0a8c2810>"
      ]
     },
     "execution_count": 185,
     "metadata": {},
     "output_type": "execute_result"
    }
   ],
   "source": [
    "# List Item 1\n",
    "doc.add_paragraph(\"Флеш-память: используется для хранения скетчей.\", style='List Bullet')\n",
    "\n",
    "\n",
    "# List Item 2\n",
    "par = doc.add_paragraph(style='List Bullet')\n",
    "\n",
    "par.add_run(\"ОЗУ (\")\n",
    "\n",
    "run = par.add_run(\"SRAM\")\n",
    "run.bold = True\n",
    "\n",
    "par.add_run(\"—\")\n",
    "\n",
    "run = par.add_run(\"static random access memory\")\n",
    "run.italic = True\n",
    "\n",
    "par.add_run(\", статическая оперативная память с произвольным доступом): используется для хранения и работы переменных.\")\n",
    "\n",
    "# List Item 3\n",
    "doc.add_paragraph(\"EEPROM (энергонезависимая память): используется для хранения постоянной информации.\", style='List Bullet')"
   ]
  },
  {
   "cell_type": "code",
   "execution_count": 186,
   "id": "65e1e7b1-a94b-4e72-8988-07ce05d397d1",
   "metadata": {},
   "outputs": [
    {
     "data": {
      "text/plain": [
       "<docx.text.paragraph.Paragraph at 0x765d09da2ae0>"
      ]
     },
     "execution_count": 186,
     "metadata": {},
     "output_type": "execute_result"
    }
   ],
   "source": [
    "doc.add_paragraph(\n",
    "\"Флеш-память и EEPROM являются энергонезависимыми видами памяти (данные сохраняются при отключении питания). ОЗУ является энергозависимой памятью.\"\n",
    ")"
   ]
  },
  {
   "cell_type": "code",
   "execution_count": 187,
   "id": "018dce52-8c44-4231-9fba-48a2c905095a",
   "metadata": {},
   "outputs": [],
   "source": [
    "items = (\n",
    "    (\"Flash (1 кБ flash-памяти занят загрузчиком)\", \"16 Кбайт\", \"32 Кбайт\", \"128 Кбайт\", \"256 Кбайт\"),\n",
    "    (\"SRAM\", \"1 Кбайт\", \"2 Кбайт\", \"8 Кбайт\", \"8 Кбайт\"),\n",
    "    (\"EEPROM\", \"512 байт\", \"1024 байта\", \"4 Кбайт\", \"4 Кбайт\")\n",
    ")\n",
    "\n",
    "headers = (\n",
    "    '', 'ATmega168', 'ATmega328', 'ATmega1280', 'ATmega2560'\n",
    ")\n",
    "\n",
    "table = doc.add_table(rows=1, cols=5)\n",
    "table.style = \"Table Grid\"\n",
    "hdr_cells = table.rows[0].cells\n",
    "for i in range(5):\n",
    "    run = hdr_cells[i].paragraphs[0].add_run(headers[i])\n",
    "    run.bold = True\n",
    "    \n",
    "\n",
    "for item in items:\n",
    "    cells = table.add_row().cells\n",
    "    run = cells[0].paragraphs[0].add_run(item[0])\n",
    "    run.bold = True\n",
    "\n",
    "\n",
    "    cells[1].text = item[1]\n",
    "    cells[2].text = item[2]\n",
    "    cells[3].text = item[3]\n",
    "    cells[4].text = item[4]\n"
   ]
  },
  {
   "cell_type": "code",
   "execution_count": 188,
   "id": "7e5d27fa-f16a-4abf-bee8-6306afde92ad",
   "metadata": {},
   "outputs": [],
   "source": [
    "par = doc.add_paragraph()\n",
    "run = par.add_run(\n",
    "    \"Память EEPROM, по заявлениям производителя, обладает гарантированным жизненным \" +\n",
    "    \"циклом 100 000 операций записи/стирания и 100 лет хранения данных при температуре 25С. \" +\n",
    "    \"Эти данные не распространяются на операции чтения данных из EEPROM — чтение данных \" +\n",
    "    \"не лимитировано. Исходя из этого, нужно проектировать свои скетчи максимально \" +\n",
    "    \"щадящими по отношению к EEPROM.\"\n",
    ")\n",
    "run.italic = True"
   ]
  },
  {
   "cell_type": "code",
   "execution_count": 189,
   "id": "acc43168-f278-4919-a007-9722e899a91b",
   "metadata": {},
   "outputs": [],
   "source": [
    "for paragraph in doc.paragraphs:\n",
    "    for run in paragraph.runs:\n",
    "        run.font.name = \"Liberation Serif\"\n",
    "        run.font.size = Pt(12)"
   ]
  },
  {
   "cell_type": "code",
   "execution_count": 190,
   "id": "19af8794-1d25-44d5-b57e-2c1b8f03ff56",
   "metadata": {},
   "outputs": [],
   "source": [
    "doc.save(\"test.docx\")"
   ]
  },
  {
   "cell_type": "markdown",
   "id": "9ac972c7-e747-4f62-92a4-7c00fd4aee87",
   "metadata": {},
   "source": [
    "## Задание 2"
   ]
  },
  {
   "cell_type": "code",
   "execution_count": 191,
   "id": "ecec0d5e-a770-4404-a5e4-4cd79e09880d",
   "metadata": {},
   "outputs": [],
   "source": [
    "doc = Document('test.docx')\n",
    "\n",
    "image_path = 'atmega1280.png'\n",
    "doc.add_picture(image_path, width=Inches(2))\n",
    "\n",
    "doc.add_paragraph('ATmega1280', style='Caption')\n",
    "\n",
    "doc.save('test_with_image.docx')"
   ]
  },
  {
   "cell_type": "markdown",
   "id": "b87eb1fa-27a4-4f67-a863-61efda209072",
   "metadata": {},
   "source": [
    "## Задание 3"
   ]
  },
  {
   "cell_type": "code",
   "execution_count": 192,
   "id": "92d735b1-28f1-4f0b-81ae-1dd00df3b0d9",
   "metadata": {},
   "outputs": [
    {
     "name": "stdout",
     "output_type": "stream",
     "text": [
      "{'Flash (1 кБ flash-памяти занят загрузчиком)': '32 Кбайт', 'SRAM': '2 Кбайт', 'EEPROM': '1024 байта'}\n"
     ]
    }
   ],
   "source": [
    "doc = Document('test.docx')\n",
    "\n",
    "memory_data = {}\n",
    "table = doc.tables[0]\n",
    "headers = [cell.text for cell in table.rows[0].cells]\n",
    "\n",
    "atmega328_index = headers.index('ATmega328')\n",
    "\n",
    "for row in table.rows[1:]:\n",
    "    memory_type = row.cells[0].text \n",
    "    memory_value = row.cells[atmega328_index].text\n",
    "    memory_data[memory_type] = memory_value\n",
    "\n",
    "print(memory_data)"
   ]
  }
 ],
 "metadata": {
  "kernelspec": {
   "display_name": ".pyenv",
   "language": "python",
   "name": ".pyenv"
  },
  "language_info": {
   "codemirror_mode": {
    "name": "ipython",
    "version": 3
   },
   "file_extension": ".py",
   "mimetype": "text/x-python",
   "name": "python",
   "nbconvert_exporter": "python",
   "pygments_lexer": "ipython3",
   "version": "3.12.7"
  }
 },
 "nbformat": 4,
 "nbformat_minor": 5
}
