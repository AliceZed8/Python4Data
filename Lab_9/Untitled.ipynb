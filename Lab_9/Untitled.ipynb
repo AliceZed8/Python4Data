{
 "cells": [
  {
   "cell_type": "markdown",
   "id": "2102c0a4-ae23-49d0-b822-8e9485f423e7",
   "metadata": {},
   "source": [
    "# Лабораторная работа 9"
   ]
  },
  {
   "cell_type": "code",
   "execution_count": 43,
   "id": "483477f8-c151-4b57-bd1e-7c198dcbf6e4",
   "metadata": {},
   "outputs": [],
   "source": [
    "import openpyxl"
   ]
  },
  {
   "cell_type": "markdown",
   "id": "f9272112-ed25-4bbe-a77c-91e3dd6b5177",
   "metadata": {},
   "source": [
    "## Задание 1"
   ]
  },
  {
   "cell_type": "code",
   "execution_count": 44,
   "id": "8195b714-cd03-4f4b-9f48-6f76634c2b07",
   "metadata": {},
   "outputs": [],
   "source": [
    "path = \"test.xlsx\"\n",
    "\n",
    "workbook = openpyxl.Workbook()\n",
    "sheet = workbook.active"
   ]
  },
  {
   "cell_type": "code",
   "execution_count": 45,
   "id": "718ae498-477b-498d-9857-7c34ce9c1aaa",
   "metadata": {},
   "outputs": [],
   "source": [
    "cols = [\"Таб. номер\", \"Фамилия\", \"Отдел\", \"Сумма по окладу, руб.\", \"Сумма по надбавкам, руб.\", \"Сумма зарплаты, руб.\", \"НДФЛ, %\", \"Сумма НДФЛ, руб.\", \"Сумма к выдаче, руб.\"]\n",
    " \n",
    "data = [\n",
    "    [\n",
    "        {'Таб. номер': 2, 'Фамилия': 'Петров П.П.', 'Отдел': 'Бухгалтерия', 'Сумма по окладу, руб.': 3913.04, 'Сумма по надбавкам, руб.': 2608.70, 'Сумма зарплаты, руб.': 6521.74, 'НДФЛ, %': 13, 'Сумма НДФЛ, руб.': 0, 'Сумма к выдаче, руб.': 0},\n",
    "        {'Таб. номер': 5, 'Фамилия': 'Васин В.В.', 'Отдел': 'Бухгалтерия', 'Сумма по окладу, руб.': 5934.78, 'Сумма по надбавкам, руб.': 913.04, 'Сумма зарплаты, руб.': 6847.83, 'НДФЛ, %': 13, 'Сумма НДФЛ, руб.': 0, 'Сумма к выдаче, руб.': 0},\n",
    "    ],\n",
    "    [\n",
    "        {'Таб. номер': 1, 'Фамилия': 'Иванов И.И.', 'Отдел': 'Отдел кадров', 'Сумма по окладу, руб.': 6000.00, 'Сумма по надбавкам, руб.': 4000.00, 'Сумма зарплаты, руб.': 10000.00, 'НДФЛ, %': 13, 'Сумма НДФЛ, руб.': 0, 'Сумма к выдаче, руб.': 0},\n",
    "        {'Таб. номер': 3, 'Фамилия': 'Сидоров С.С.', 'Отдел': 'Отдел кадров', 'Сумма по окладу, руб.': 5000.00, 'Сумма по надбавкам, руб.': 4500.00, 'Сумма зарплаты, руб.': 9500.00, 'НДФЛ, %': 13, 'Сумма НДФЛ, руб.': 0, 'Сумма к выдаче, руб.': 0},\n",
    "        {'Таб. номер': 6, 'Фамилия': 'Львов Л.Л.', 'Отдел': 'Отдел кадров', 'Сумма по окладу, руб.': 4074.07, 'Сумма по надбавкам, руб.': 2444.44, 'Сумма зарплаты, руб.': 6518.52, 'НДФЛ, %': 13, 'Сумма НДФЛ, руб.': 0, 'Сумма к выдаче, руб.': 0},\n",
    "        {'Таб. номер': 7, 'Фамилия': 'Волков В.В.', 'Отдел': 'Отдел кадров', 'Сумма по окладу, руб.': 1434.78, 'Сумма по надбавкам, руб.': 1434.78, 'Сумма зарплаты, руб.': 2869.57, 'НДФЛ, %': 13, 'Сумма НДФЛ, руб.': 0, 'Сумма к выдаче, руб.': 0},\n",
    "    ],\n",
    "    [\n",
    "        {'Таб. номер': 4, 'Фамилия': 'Мишин М.М.', 'Отдел': 'Столовая', 'Сумма по окладу, руб.': 5500.0, 'Сумма по надбавкам, руб.': 3500.0, 'Сумма зарплаты, руб.': 9000.0, 'НДФЛ, %': 13, 'Сумма НДФЛ, руб.': 0, 'Сумма к выдаче, руб.': 0}\n",
    "    ]\n",
    "]"
   ]
  },
  {
   "cell_type": "code",
   "execution_count": 46,
   "id": "2cb92926-c9df-45ab-9daf-d5ed20ee3b9d",
   "metadata": {},
   "outputs": [],
   "source": [
    "\n",
    "sheet.append(cols)\n",
    "\n",
    "total_row = [\"\", \"\", \"Общий итог\", 0, 0, 0, \"\", 0, 0]\n",
    "for part_list in data:\n",
    "    summary_row = [\"\", \"\", \"Итог\", 0, 0, 0, \"\", 0, 0]\n",
    "    for item in part_list:\n",
    "        zp = item['Сумма зарплаты, руб.']\n",
    "        ndfl = round(zp * (item['НДФЛ, %'] / 100), 2)\n",
    "        item['Сумма НДФЛ, руб.'] = ndfl\n",
    "        item['Сумма к выдаче, руб.'] = zp - ndfl;\n",
    "\n",
    "        values = list(item.values())\n",
    "    \n",
    "        summary_row[3] += values[3];\n",
    "        summary_row[4] += values[4];\n",
    "        summary_row[5] += values[5];\n",
    "        summary_row[7] += values[7];\n",
    "        summary_row[8] += values[8];\n",
    "        sheet.append(values)\n",
    "        \n",
    "    total_row[3] += summary_row[3];\n",
    "    total_row[4] += summary_row[4];\n",
    "    total_row[5] += summary_row[5];\n",
    "    total_row[7] += summary_row[7];\n",
    "    total_row[8] += summary_row[8];\n",
    "    \n",
    "    summary_row[2] = part_list[0]['Отдел'] + \" Итог\"\n",
    "    sheet.append(summary_row)\n",
    "\n",
    "sheet.append(total_row)\n",
    "workbook.save(path)"
   ]
  },
  {
   "cell_type": "markdown",
   "id": "ca070c62-7ca3-4fa0-8fe4-d0cdb56f8636",
   "metadata": {},
   "source": [
    "## Задания 2 и 3"
   ]
  },
  {
   "cell_type": "code",
   "execution_count": 47,
   "id": "fdbb9652-e9fb-434f-9cac-65ac01ffa4f8",
   "metadata": {},
   "outputs": [],
   "source": [
    "workbook = openpyxl.load_workbook(path)\n",
    "sheet = workbook.active"
   ]
  },
  {
   "cell_type": "code",
   "execution_count": 48,
   "id": "aa7238e0-d293-4924-815d-60b0ace2eeaf",
   "metadata": {},
   "outputs": [],
   "source": [
    "minval = 10000000\n",
    "maxval = 0\n",
    "minzp_person = \"\"\n",
    "maxzp_person = \"\"\n",
    "\n",
    "\n",
    "depart_info = {\n",
    "    'Бухгалтерия' : {\n",
    "        \"sum\": 0,\n",
    "        \"count\": 0\n",
    "    }, \n",
    "    'Отдел кадров': {\n",
    "        \"sum\": 0,\n",
    "        \"count\": 0\n",
    "    }, \n",
    "    'Столовая': {\n",
    "        \"sum\": 0,\n",
    "        \"count\": 0\n",
    "    }\n",
    "}\n",
    "\n",
    "\n",
    "\n",
    "j = 2\n",
    "while True:\n",
    "    c = sheet.cell(row=j, column=6)\n",
    "    person = sheet.cell(row=j, column=2)\n",
    "    depart = sheet.cell(row=j, column=3).value\n",
    "      \n",
    "    if (c.value == None): break # если достигли конца\n",
    "    if (person.value == None): # если фио не указано\n",
    "        j += 1\n",
    "        continue\n",
    "\n",
    "\n",
    "    # поиск мин/макс зп\n",
    "    if (c.value < minval):\n",
    "        minval = c.value\n",
    "        minzp_person = person.value\n",
    "        \n",
    "    if (c.value > maxval):\n",
    "        maxval = c.value\n",
    "        maxzp_person = person.value\n",
    "\n",
    " \n",
    "    if depart in depart_info:\n",
    "        depart_info[depart]['count'] += 1\n",
    "        depart_info[depart]['sum'] += c.value\n",
    "\n",
    "    \n",
    "    j+=1\n",
    "    \n",
    "\n",
    "\n",
    "colss = [\"Человек с мин. зп\", \"Человек с макс. зп\", \"Средняя зп. (Бухгалтерия)\", \"Средняя зп. (Отдел кадров)\", \"Средняя зп. (Столовая)\"]\n",
    "new_data = [minzp_person, maxzp_person, \n",
    "            depart_info['Бухгалтерия']['sum'] / depart_info['Бухгалтерия']['count'],\n",
    "            depart_info['Отдел кадров']['sum'] / depart_info['Отдел кадров']['count'],\n",
    "            depart_info['Столовая']['sum'] / depart_info['Столовая']['count']\n",
    "           ]\n",
    "\n",
    "\n",
    "# Вставляем информацию\n",
    "for i in range(len(colss)):\n",
    "    sheet.cell(row=14,column=2+i).value = colss[i]\n",
    "    sheet.cell(row=15,column=2+i).value = new_data[i]\n",
    "    "
   ]
  },
  {
   "cell_type": "markdown",
   "id": "d48b1cb3-69b2-4da9-b826-87f4c313b6c0",
   "metadata": {},
   "source": [
    "Вставим данные для диаграммы"
   ]
  },
  {
   "cell_type": "code",
   "execution_count": 54,
   "id": "3d330779-3537-4fb1-94c6-3458d62c3c86",
   "metadata": {},
   "outputs": [],
   "source": [
    "sheet.cell(row=17, column=2).value = \"Отдел\"\n",
    "sheet.cell(row=17, column=3).value = \"Сумма ЗП\"\n",
    "\n",
    "j = 0\n",
    "for depart in depart_info:\n",
    "    sheet.cell(row=18+j, column=2).value = depart\n",
    "    sheet.cell(row=18+j, column=3).value = depart_info[depart]['sum']\n",
    "    j+=1\n",
    "\n"
   ]
  },
  {
   "cell_type": "markdown",
   "id": "8fd07fe1-0279-4b85-b202-8670ba6f120c",
   "metadata": {},
   "source": [
    "Вставим диаграмму"
   ]
  },
  {
   "cell_type": "code",
   "execution_count": 59,
   "id": "408a1aea-93aa-4847-8474-7d77f034f7d4",
   "metadata": {},
   "outputs": [],
   "source": [
    "chart = openpyxl.chart.PieChart()\n",
    "chart.title = \"Распределение зарплат по отделам\"\n",
    "\n",
    "\n",
    "data_reference = openpyxl.chart.Reference(sheet, min_col=3, min_row=17, max_row=17+ len(depart_info))\n",
    "labels_reference = openpyxl.chart.Reference(sheet, min_col=2, min_row=18, max_row=17 + len(depart_info))\n",
    "\n",
    "chart.add_data(data_reference, titles_from_data=True)\n",
    "chart.set_categories(labels_reference)\n",
    "\n",
    "sheet.add_chart(chart, \"L2\")"
   ]
  },
  {
   "cell_type": "markdown",
   "id": "e6dfdcde-df7a-4c57-ac5b-f8aafb245353",
   "metadata": {},
   "source": [
    "Сохраняем"
   ]
  },
  {
   "cell_type": "code",
   "execution_count": 60,
   "id": "4cfa1b4f-d7c7-47c4-8248-e60988f89698",
   "metadata": {},
   "outputs": [],
   "source": [
    "workbook.save(path)"
   ]
  }
 ],
 "metadata": {
  "kernelspec": {
   "display_name": ".pyenv",
   "language": "python",
   "name": ".pyenv"
  },
  "language_info": {
   "codemirror_mode": {
    "name": "ipython",
    "version": 3
   },
   "file_extension": ".py",
   "mimetype": "text/x-python",
   "name": "python",
   "nbconvert_exporter": "python",
   "pygments_lexer": "ipython3",
   "version": "3.12.7"
  }
 },
 "nbformat": 4,
 "nbformat_minor": 5
}
