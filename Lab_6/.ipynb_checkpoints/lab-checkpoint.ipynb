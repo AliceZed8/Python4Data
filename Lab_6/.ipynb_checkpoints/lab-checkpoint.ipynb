{
 "cells": [
  {
   "cell_type": "markdown",
   "id": "eba4d222-c965-470b-a556-13852f8a0b28",
   "metadata": {},
   "source": [
    "# Лабораторная работа 6"
   ]
  },
  {
   "cell_type": "code",
   "execution_count": 40,
   "id": "032211ae-ecc9-4606-a7cc-84079750e34a",
   "metadata": {},
   "outputs": [],
   "source": [
    "from xmlschema import XMLSchema\n",
    "import xml.etree.ElementTree as Tree"
   ]
  },
  {
   "cell_type": "markdown",
   "id": "06932d06-aca7-4efe-b468-4df6c72cc1b9",
   "metadata": {},
   "source": [
    "## Часть 1"
   ]
  },
  {
   "cell_type": "markdown",
   "id": "b71df995-06c2-4357-b079-f673335598e2",
   "metadata": {},
   "source": [
    "Создана схема ex1_schema.xsd в текущем каталоге, а также fake_ex1.xml (неправильный варик)"
   ]
  },
  {
   "cell_type": "code",
   "execution_count": 41,
   "id": "245585ee-e155-415e-8e90-0ac16ce4aa2a",
   "metadata": {},
   "outputs": [
    {
     "name": "stdout",
     "output_type": "stream",
     "text": [
      "This xml file is valid\n"
     ]
    }
   ],
   "source": [
    "schema = XMLSchema(\"ex1_schema.xsd\") \n",
    "print(\"This xml file is valid\" if schema.is_valid(\"fake_ex1.xml\") else \"This xml file is not valid\")\n"
   ]
  },
  {
   "cell_type": "markdown",
   "id": "1472b9fc-ae38-494e-868d-2e6462aa14bf",
   "metadata": {},
   "source": [
    "## Часть 2"
   ]
  },
  {
   "cell_type": "markdown",
   "id": "1835772c-1bdd-4988-8b63-656f1ca0468c",
   "metadata": {},
   "source": [
    "Спарсим ex_2.xml"
   ]
  },
  {
   "cell_type": "code",
   "execution_count": 42,
   "id": "f0065ce6-820c-4e4d-9d4b-7f090ca8051c",
   "metadata": {},
   "outputs": [],
   "source": [
    "tree = Tree.parse(\"ex_2.xml\")\n",
    "root = tree.getroot()"
   ]
  },
  {
   "cell_type": "markdown",
   "id": "d30e7e2f-a73c-4cab-acbd-15fdb23c5321",
   "metadata": {},
   "source": [
    "Создадим новый элемент"
   ]
  },
  {
   "cell_type": "code",
   "execution_count": 43,
   "id": "b5903962-85b0-4f0e-ae2d-d96269841e60",
   "metadata": {},
   "outputs": [],
   "source": [
    "new_item = Tree.Element(\"Item\")\n",
    "\n",
    "Tree.SubElement(new_item, \"ArtName\").text = \"Сыр Пармезан\"\n",
    "Tree.SubElement(new_item, \"Barcode\").text = \"20027364762462\"\n",
    "Tree.SubElement(new_item, \"QNT\").text = \"450,00\"\n",
    "Tree.SubElement(new_item, \"QNTPack\").text = \"450,00\"\n",
    "Tree.SubElement(new_item, \"Unit\").text = \"шт\"\n",
    "Tree.SubElement(new_item, \"SN1\").text = \"00000007\"\n",
    "Tree.SubElement(new_item, \"SN2\").text = \"01.11.2024\"\n",
    "Tree.SubElement(new_item, \"QNTRows\").text = \"12\""
   ]
  },
  {
   "cell_type": "markdown",
   "id": "494007e2-a655-40dc-86b7-4ca73ba824a2",
   "metadata": {},
   "source": [
    "Добавим элемент"
   ]
  },
  {
   "cell_type": "code",
   "execution_count": 44,
   "id": "b7f97770-923e-4a6d-abc9-6ffcb90da9c3",
   "metadata": {},
   "outputs": [],
   "source": [
    "root.find(\"Detail\").append(new_item)\n",
    "Tree.indent(tree, '    ')"
   ]
  },
  {
   "cell_type": "markdown",
   "id": "7ae4dcf0-f90d-4282-a8bb-3f24ca3b34ec",
   "metadata": {},
   "source": [
    "Пересчитаем"
   ]
  },
  {
   "cell_type": "code",
   "execution_count": 45,
   "id": "4440c84a-812b-4bd7-b289-6dc58afcee0c",
   "metadata": {},
   "outputs": [],
   "source": [
    "summ, summ_rows = 0, 0\n",
    "\n",
    "for item in root.findall(\"Detail/Item\"):\n",
    "    val_1 = item.find(\"QNT\").text\n",
    "    val_2 = item.find(\"QNTRows\").text\n",
    "\n",
    "    summ += float(val_1.replace(\",\", \".\"))\n",
    "    summ_rows += int(val_2)\n",
    "\n",
    "root.find(\"Summary/Summ\").text = str(summ).replace(\".\", \",\")\n",
    "root.find(\"Summary/SummRows\").text = str(summ_rows)"
   ]
  },
  {
   "cell_type": "markdown",
   "id": "906dfac6-28dd-4f49-a2b9-eb7ee6739fd8",
   "metadata": {},
   "source": [
    "Запишем в новый файл"
   ]
  },
  {
   "cell_type": "code",
   "execution_count": 46,
   "id": "5f72d473-07f0-42a2-9460-d825fde2681a",
   "metadata": {},
   "outputs": [],
   "source": [
    "tree.write(\"new.xml\", encoding=\"UTF-8\", xml_declaration=True)"
   ]
  },
  {
   "cell_type": "markdown",
   "id": "4ea4872d-7851-43b2-9456-3ee8d397ae64",
   "metadata": {},
   "source": [
    "## Часть 3"
   ]
  },
  {
   "cell_type": "markdown",
   "id": "c2d97a90-292c-4691-ab83-d590ff6a83d5",
   "metadata": {},
   "source": [
    "Спарсим ex_3.xml"
   ]
  },
  {
   "cell_type": "code",
   "execution_count": 47,
   "id": "d4754ce9-c39a-40b3-b9dc-57d81ed97ade",
   "metadata": {},
   "outputs": [],
   "source": [
    "tree = Tree.parse(\"ex_3.xml\")"
   ]
  },
  {
   "cell_type": "markdown",
   "id": "b523c89f-642d-4b1e-8642-0bc796cf05b3",
   "metadata": {},
   "source": [
    "Выведем данные"
   ]
  },
  {
   "cell_type": "code",
   "execution_count": 48,
   "id": "51798cdc-38f7-46a5-b0db-f88941c749f5",
   "metadata": {},
   "outputs": [
    {
     "name": "stdout",
     "output_type": "stream",
     "text": [
      "Товары\n",
      "Наименование товара: Колесо связующее диаметр 10\n",
      "Количество: 200\n",
      "Цена: 456.4\n",
      "\n",
      "Наименование товара: Колесо связующее диаметр 12\n",
      "Количество: 160\n",
      "Цена: 512.5\n",
      "\n"
     ]
    }
   ],
   "source": [
    "root = tree.getroot()\n",
    "print(\"Товары\")\n",
    "for item in root.findall(\"Документ/ТаблСчФакт/СведТов\"):\n",
    "    print(f\"Наименование товара: {item.get('НаимТов')}\\nКоличество: {item.get('КолТов')}\\nЦена: {item.get('ЦенаТов')}\\n\")"
   ]
  }
 ],
 "metadata": {
  "kernelspec": {
   "display_name": ".pyenv",
   "language": "python",
   "name": ".pyenv"
  },
  "language_info": {
   "codemirror_mode": {
    "name": "ipython",
    "version": 3
   },
   "file_extension": ".py",
   "mimetype": "text/x-python",
   "name": "python",
   "nbconvert_exporter": "python",
   "pygments_lexer": "ipython3",
   "version": "3.12.7"
  }
 },
 "nbformat": 4,
 "nbformat_minor": 5
}
